{
 "cells": [
  {
   "cell_type": "code",
   "execution_count": 10,
   "id": "ac21b628-9895-49bf-b80e-066c37958c61",
   "metadata": {},
   "outputs": [],
   "source": [
    "import numpy as np\n",
    "import pandas as pd\n",
    "import matplotlib.pyplot as plt\n",
    "import seaborn as sns\n"
   ]
  },
  {
   "cell_type": "markdown",
   "id": "c585da3e-ee03-47e9-8216-1c4d744d2e17",
   "metadata": {},
   "source": [
    "## Problem Statement \n",
    "#### Netflix is one of the largest OTT platform worldwide.It lets movies and shows accessible to its sunscribers without any language barrier. At the same time its a bussiness with crores of turnover. Hence it is important to find and forecast the type of content people are actually willing to watch. So we should do the analyse the data given and get insights that help Netflix to grow better."
   ]
  },
  {
   "cell_type": "code",
   "execution_count": 11,
   "id": "229038e3-8105-496a-9cb4-fc896e1a5c73",
   "metadata": {},
   "outputs": [
    {
     "name": "stdout",
     "output_type": "stream",
     "text": [
      "Requirement already satisfied: gdown in c:\\users\\lenovo\\anaconda3\\lib\\site-packages (4.6.0)\n",
      "Requirement already satisfied: beautifulsoup4 in c:\\users\\lenovo\\anaconda3\\lib\\site-packages (from gdown) (4.11.1)\n",
      "Requirement already satisfied: requests[socks] in c:\\users\\lenovo\\anaconda3\\lib\\site-packages (from gdown) (2.27.1)\n",
      "Requirement already satisfied: tqdm in c:\\users\\lenovo\\anaconda3\\lib\\site-packages (from gdown) (4.64.0)\n",
      "Requirement already satisfied: filelock in c:\\users\\lenovo\\anaconda3\\lib\\site-packages (from gdown) (3.6.0)\n",
      "Requirement already satisfied: six in c:\\users\\lenovo\\anaconda3\\lib\\site-packages (from gdown) (1.16.0)\n",
      "Requirement already satisfied: soupsieve>1.2 in c:\\users\\lenovo\\anaconda3\\lib\\site-packages (from beautifulsoup4->gdown) (2.3.1)\n",
      "Requirement already satisfied: urllib3<1.27,>=1.21.1 in c:\\users\\lenovo\\anaconda3\\lib\\site-packages (from requests[socks]->gdown) (1.26.9)\n",
      "Requirement already satisfied: certifi>=2017.4.17 in c:\\users\\lenovo\\anaconda3\\lib\\site-packages (from requests[socks]->gdown) (2021.10.8)\n",
      "Requirement already satisfied: idna<4,>=2.5 in c:\\users\\lenovo\\anaconda3\\lib\\site-packages (from requests[socks]->gdown) (3.3)\n",
      "Requirement already satisfied: charset-normalizer~=2.0.0 in c:\\users\\lenovo\\anaconda3\\lib\\site-packages (from requests[socks]->gdown) (2.0.4)\n",
      "Requirement already satisfied: PySocks!=1.5.7,>=1.5.6 in c:\\users\\lenovo\\anaconda3\\lib\\site-packages (from requests[socks]->gdown) (1.7.1)\n",
      "Requirement already satisfied: colorama in c:\\users\\lenovo\\anaconda3\\lib\\site-packages (from tqdm->gdown) (0.4.4)\n"
     ]
    }
   ],
   "source": [
    "!pip install gdown"
   ]
  },
  {
   "cell_type": "code",
   "execution_count": 12,
   "id": "a08c3129-cfd6-4729-b0fe-cfe9b5d78fb8",
   "metadata": {},
   "outputs": [],
   "source": [
    "url=\"https://d2beiqkhq929f0.cloudfront.net/public_assets/assets/000/000/940/original/netflix.csv\""
   ]
  },
  {
   "cell_type": "code",
   "execution_count": 5,
   "id": "0c466a4b-a7fe-4ce2-81c7-9a1ac8ca8b61",
   "metadata": {},
   "outputs": [],
   "source": [
    "df=pd.read_csv(url)"
   ]
  },
  {
   "cell_type": "code",
   "execution_count": 8,
   "id": "db8c91af-ab9a-4987-9efe-4e4084332bd4",
   "metadata": {},
   "outputs": [
    {
     "data": {
      "text/html": [
       "<div>\n",
       "<style scoped>\n",
       "    .dataframe tbody tr th:only-of-type {\n",
       "        vertical-align: middle;\n",
       "    }\n",
       "\n",
       "    .dataframe tbody tr th {\n",
       "        vertical-align: top;\n",
       "    }\n",
       "\n",
       "    .dataframe thead th {\n",
       "        text-align: right;\n",
       "    }\n",
       "</style>\n",
       "<table border=\"1\" class=\"dataframe\">\n",
       "  <thead>\n",
       "    <tr style=\"text-align: right;\">\n",
       "      <th></th>\n",
       "      <th>show_id</th>\n",
       "      <th>type</th>\n",
       "      <th>title</th>\n",
       "      <th>director</th>\n",
       "      <th>cast</th>\n",
       "      <th>country</th>\n",
       "      <th>date_added</th>\n",
       "      <th>release_year</th>\n",
       "      <th>rating</th>\n",
       "      <th>duration</th>\n",
       "      <th>listed_in</th>\n",
       "      <th>description</th>\n",
       "    </tr>\n",
       "  </thead>\n",
       "  <tbody>\n",
       "    <tr>\n",
       "      <th>0</th>\n",
       "      <td>s1</td>\n",
       "      <td>Movie</td>\n",
       "      <td>Dick Johnson Is Dead</td>\n",
       "      <td>Kirsten Johnson</td>\n",
       "      <td>NaN</td>\n",
       "      <td>United States</td>\n",
       "      <td>September 25, 2021</td>\n",
       "      <td>2020</td>\n",
       "      <td>PG-13</td>\n",
       "      <td>90 min</td>\n",
       "      <td>Documentaries</td>\n",
       "      <td>As her father nears the end of his life, filmm...</td>\n",
       "    </tr>\n",
       "    <tr>\n",
       "      <th>1</th>\n",
       "      <td>s2</td>\n",
       "      <td>TV Show</td>\n",
       "      <td>Blood &amp; Water</td>\n",
       "      <td>NaN</td>\n",
       "      <td>Ama Qamata, Khosi Ngema, Gail Mabalane, Thaban...</td>\n",
       "      <td>South Africa</td>\n",
       "      <td>September 24, 2021</td>\n",
       "      <td>2021</td>\n",
       "      <td>TV-MA</td>\n",
       "      <td>2 Seasons</td>\n",
       "      <td>International TV Shows, TV Dramas, TV Mysteries</td>\n",
       "      <td>After crossing paths at a party, a Cape Town t...</td>\n",
       "    </tr>\n",
       "    <tr>\n",
       "      <th>2</th>\n",
       "      <td>s3</td>\n",
       "      <td>TV Show</td>\n",
       "      <td>Ganglands</td>\n",
       "      <td>Julien Leclercq</td>\n",
       "      <td>Sami Bouajila, Tracy Gotoas, Samuel Jouy, Nabi...</td>\n",
       "      <td>NaN</td>\n",
       "      <td>September 24, 2021</td>\n",
       "      <td>2021</td>\n",
       "      <td>TV-MA</td>\n",
       "      <td>1 Season</td>\n",
       "      <td>Crime TV Shows, International TV Shows, TV Act...</td>\n",
       "      <td>To protect his family from a powerful drug lor...</td>\n",
       "    </tr>\n",
       "    <tr>\n",
       "      <th>3</th>\n",
       "      <td>s4</td>\n",
       "      <td>TV Show</td>\n",
       "      <td>Jailbirds New Orleans</td>\n",
       "      <td>NaN</td>\n",
       "      <td>NaN</td>\n",
       "      <td>NaN</td>\n",
       "      <td>September 24, 2021</td>\n",
       "      <td>2021</td>\n",
       "      <td>TV-MA</td>\n",
       "      <td>1 Season</td>\n",
       "      <td>Docuseries, Reality TV</td>\n",
       "      <td>Feuds, flirtations and toilet talk go down amo...</td>\n",
       "    </tr>\n",
       "    <tr>\n",
       "      <th>4</th>\n",
       "      <td>s5</td>\n",
       "      <td>TV Show</td>\n",
       "      <td>Kota Factory</td>\n",
       "      <td>NaN</td>\n",
       "      <td>Mayur More, Jitendra Kumar, Ranjan Raj, Alam K...</td>\n",
       "      <td>India</td>\n",
       "      <td>September 24, 2021</td>\n",
       "      <td>2021</td>\n",
       "      <td>TV-MA</td>\n",
       "      <td>2 Seasons</td>\n",
       "      <td>International TV Shows, Romantic TV Shows, TV ...</td>\n",
       "      <td>In a city of coaching centers known to train I...</td>\n",
       "    </tr>\n",
       "    <tr>\n",
       "      <th>...</th>\n",
       "      <td>...</td>\n",
       "      <td>...</td>\n",
       "      <td>...</td>\n",
       "      <td>...</td>\n",
       "      <td>...</td>\n",
       "      <td>...</td>\n",
       "      <td>...</td>\n",
       "      <td>...</td>\n",
       "      <td>...</td>\n",
       "      <td>...</td>\n",
       "      <td>...</td>\n",
       "      <td>...</td>\n",
       "    </tr>\n",
       "    <tr>\n",
       "      <th>8802</th>\n",
       "      <td>s8803</td>\n",
       "      <td>Movie</td>\n",
       "      <td>Zodiac</td>\n",
       "      <td>David Fincher</td>\n",
       "      <td>Mark Ruffalo, Jake Gyllenhaal, Robert Downey J...</td>\n",
       "      <td>United States</td>\n",
       "      <td>November 20, 2019</td>\n",
       "      <td>2007</td>\n",
       "      <td>R</td>\n",
       "      <td>158 min</td>\n",
       "      <td>Cult Movies, Dramas, Thrillers</td>\n",
       "      <td>A political cartoonist, a crime reporter and a...</td>\n",
       "    </tr>\n",
       "    <tr>\n",
       "      <th>8803</th>\n",
       "      <td>s8804</td>\n",
       "      <td>TV Show</td>\n",
       "      <td>Zombie Dumb</td>\n",
       "      <td>NaN</td>\n",
       "      <td>NaN</td>\n",
       "      <td>NaN</td>\n",
       "      <td>July 1, 2019</td>\n",
       "      <td>2018</td>\n",
       "      <td>TV-Y7</td>\n",
       "      <td>2 Seasons</td>\n",
       "      <td>Kids' TV, Korean TV Shows, TV Comedies</td>\n",
       "      <td>While living alone in a spooky town, a young g...</td>\n",
       "    </tr>\n",
       "    <tr>\n",
       "      <th>8804</th>\n",
       "      <td>s8805</td>\n",
       "      <td>Movie</td>\n",
       "      <td>Zombieland</td>\n",
       "      <td>Ruben Fleischer</td>\n",
       "      <td>Jesse Eisenberg, Woody Harrelson, Emma Stone, ...</td>\n",
       "      <td>United States</td>\n",
       "      <td>November 1, 2019</td>\n",
       "      <td>2009</td>\n",
       "      <td>R</td>\n",
       "      <td>88 min</td>\n",
       "      <td>Comedies, Horror Movies</td>\n",
       "      <td>Looking to survive in a world taken over by zo...</td>\n",
       "    </tr>\n",
       "    <tr>\n",
       "      <th>8805</th>\n",
       "      <td>s8806</td>\n",
       "      <td>Movie</td>\n",
       "      <td>Zoom</td>\n",
       "      <td>Peter Hewitt</td>\n",
       "      <td>Tim Allen, Courteney Cox, Chevy Chase, Kate Ma...</td>\n",
       "      <td>United States</td>\n",
       "      <td>January 11, 2020</td>\n",
       "      <td>2006</td>\n",
       "      <td>PG</td>\n",
       "      <td>88 min</td>\n",
       "      <td>Children &amp; Family Movies, Comedies</td>\n",
       "      <td>Dragged from civilian life, a former superhero...</td>\n",
       "    </tr>\n",
       "    <tr>\n",
       "      <th>8806</th>\n",
       "      <td>s8807</td>\n",
       "      <td>Movie</td>\n",
       "      <td>Zubaan</td>\n",
       "      <td>Mozez Singh</td>\n",
       "      <td>Vicky Kaushal, Sarah-Jane Dias, Raaghav Chanan...</td>\n",
       "      <td>India</td>\n",
       "      <td>March 2, 2019</td>\n",
       "      <td>2015</td>\n",
       "      <td>TV-14</td>\n",
       "      <td>111 min</td>\n",
       "      <td>Dramas, International Movies, Music &amp; Musicals</td>\n",
       "      <td>A scrappy but poor boy worms his way into a ty...</td>\n",
       "    </tr>\n",
       "  </tbody>\n",
       "</table>\n",
       "<p>8807 rows × 12 columns</p>\n",
       "</div>"
      ],
      "text/plain": [
       "     show_id     type                  title         director  \\\n",
       "0         s1    Movie   Dick Johnson Is Dead  Kirsten Johnson   \n",
       "1         s2  TV Show          Blood & Water              NaN   \n",
       "2         s3  TV Show              Ganglands  Julien Leclercq   \n",
       "3         s4  TV Show  Jailbirds New Orleans              NaN   \n",
       "4         s5  TV Show           Kota Factory              NaN   \n",
       "...      ...      ...                    ...              ...   \n",
       "8802   s8803    Movie                 Zodiac    David Fincher   \n",
       "8803   s8804  TV Show            Zombie Dumb              NaN   \n",
       "8804   s8805    Movie             Zombieland  Ruben Fleischer   \n",
       "8805   s8806    Movie                   Zoom     Peter Hewitt   \n",
       "8806   s8807    Movie                 Zubaan      Mozez Singh   \n",
       "\n",
       "                                                   cast        country  \\\n",
       "0                                                   NaN  United States   \n",
       "1     Ama Qamata, Khosi Ngema, Gail Mabalane, Thaban...   South Africa   \n",
       "2     Sami Bouajila, Tracy Gotoas, Samuel Jouy, Nabi...            NaN   \n",
       "3                                                   NaN            NaN   \n",
       "4     Mayur More, Jitendra Kumar, Ranjan Raj, Alam K...          India   \n",
       "...                                                 ...            ...   \n",
       "8802  Mark Ruffalo, Jake Gyllenhaal, Robert Downey J...  United States   \n",
       "8803                                                NaN            NaN   \n",
       "8804  Jesse Eisenberg, Woody Harrelson, Emma Stone, ...  United States   \n",
       "8805  Tim Allen, Courteney Cox, Chevy Chase, Kate Ma...  United States   \n",
       "8806  Vicky Kaushal, Sarah-Jane Dias, Raaghav Chanan...          India   \n",
       "\n",
       "              date_added  release_year rating   duration  \\\n",
       "0     September 25, 2021          2020  PG-13     90 min   \n",
       "1     September 24, 2021          2021  TV-MA  2 Seasons   \n",
       "2     September 24, 2021          2021  TV-MA   1 Season   \n",
       "3     September 24, 2021          2021  TV-MA   1 Season   \n",
       "4     September 24, 2021          2021  TV-MA  2 Seasons   \n",
       "...                  ...           ...    ...        ...   \n",
       "8802   November 20, 2019          2007      R    158 min   \n",
       "8803        July 1, 2019          2018  TV-Y7  2 Seasons   \n",
       "8804    November 1, 2019          2009      R     88 min   \n",
       "8805    January 11, 2020          2006     PG     88 min   \n",
       "8806       March 2, 2019          2015  TV-14    111 min   \n",
       "\n",
       "                                              listed_in  \\\n",
       "0                                         Documentaries   \n",
       "1       International TV Shows, TV Dramas, TV Mysteries   \n",
       "2     Crime TV Shows, International TV Shows, TV Act...   \n",
       "3                                Docuseries, Reality TV   \n",
       "4     International TV Shows, Romantic TV Shows, TV ...   \n",
       "...                                                 ...   \n",
       "8802                     Cult Movies, Dramas, Thrillers   \n",
       "8803             Kids' TV, Korean TV Shows, TV Comedies   \n",
       "8804                            Comedies, Horror Movies   \n",
       "8805                 Children & Family Movies, Comedies   \n",
       "8806     Dramas, International Movies, Music & Musicals   \n",
       "\n",
       "                                            description  \n",
       "0     As her father nears the end of his life, filmm...  \n",
       "1     After crossing paths at a party, a Cape Town t...  \n",
       "2     To protect his family from a powerful drug lor...  \n",
       "3     Feuds, flirtations and toilet talk go down amo...  \n",
       "4     In a city of coaching centers known to train I...  \n",
       "...                                                 ...  \n",
       "8802  A political cartoonist, a crime reporter and a...  \n",
       "8803  While living alone in a spooky town, a young g...  \n",
       "8804  Looking to survive in a world taken over by zo...  \n",
       "8805  Dragged from civilian life, a former superhero...  \n",
       "8806  A scrappy but poor boy worms his way into a ty...  \n",
       "\n",
       "[8807 rows x 12 columns]"
      ]
     },
     "execution_count": 8,
     "metadata": {},
     "output_type": "execute_result"
    }
   ],
   "source": [
    "df"
   ]
  },
  {
   "cell_type": "code",
   "execution_count": 9,
   "id": "66bb182e-b70f-44d3-9518-714b71a78220",
   "metadata": {},
   "outputs": [
    {
     "data": {
      "text/plain": [
       "(8807, 12)"
      ]
     },
     "execution_count": 9,
     "metadata": {},
     "output_type": "execute_result"
    }
   ],
   "source": [
    "df.shape"
   ]
  },
  {
   "cell_type": "markdown",
   "id": "684c4fb0-bd8d-4a06-b322-782a201d7b2a",
   "metadata": {},
   "source": [
    "## There are 8807 unique movie/shows altogether"
   ]
  },
  {
   "cell_type": "code",
   "execution_count": 13,
   "id": "90a0049f-23c2-4cef-8a9a-264b7b885c75",
   "metadata": {},
   "outputs": [
    {
     "name": "stdout",
     "output_type": "stream",
     "text": [
      "<class 'pandas.core.frame.DataFrame'>\n",
      "RangeIndex: 8807 entries, 0 to 8806\n",
      "Data columns (total 12 columns):\n",
      " #   Column        Non-Null Count  Dtype \n",
      "---  ------        --------------  ----- \n",
      " 0   show_id       8807 non-null   object\n",
      " 1   type          8807 non-null   object\n",
      " 2   title         8807 non-null   object\n",
      " 3   director      6173 non-null   object\n",
      " 4   cast          7982 non-null   object\n",
      " 5   country       7976 non-null   object\n",
      " 6   date_added    8797 non-null   object\n",
      " 7   release_year  8807 non-null   int64 \n",
      " 8   rating        8803 non-null   object\n",
      " 9   duration      8804 non-null   object\n",
      " 10  listed_in     8807 non-null   object\n",
      " 11  description   8807 non-null   object\n",
      "dtypes: int64(1), object(11)\n",
      "memory usage: 825.8+ KB\n"
     ]
    }
   ],
   "source": [
    "df.info()"
   ]
  },
  {
   "cell_type": "markdown",
   "id": "e247ff4e-9250-4ef7-8ab9-46f070b52f14",
   "metadata": {
    "tags": []
   },
   "source": [
    "# There are missing values in director,case,country,date_addded,release_year,rating and duration series.\n"
   ]
  },
  {
   "cell_type": "code",
   "execution_count": 103,
   "id": "0a91c7f1-0c9f-4e65-9ea0-90c6c958357f",
   "metadata": {},
   "outputs": [
    {
     "data": {
      "text/plain": [
       "show_id            0\n",
       "type               0\n",
       "title              0\n",
       "director        2634\n",
       "cast             825\n",
       "country          831\n",
       "date_added        10\n",
       "release_year       0\n",
       "rating             4\n",
       "duration           3\n",
       "listed_in          0\n",
       "description        0\n",
       "dtype: int64"
      ]
     },
     "execution_count": 103,
     "metadata": {},
     "output_type": "execute_result"
    }
   ],
   "source": [
    "df.isnull().sum()"
   ]
  },
  {
   "cell_type": "markdown",
   "id": "8f850672-719c-4640-91fe-7c7e6db74d39",
   "metadata": {},
   "source": [
    "## Maximum missing data is found to be in director series which will hinder the ease of analysis"
   ]
  },
  {
   "cell_type": "code",
   "execution_count": 9,
   "id": "59ace24b-0376-49a0-bdbd-4062cd150de7",
   "metadata": {},
   "outputs": [
    {
     "data": {
      "text/plain": [
       "0    September 25, 2021\n",
       "Name: date_added, dtype: object"
      ]
     },
     "execution_count": 9,
     "metadata": {},
     "output_type": "execute_result"
    }
   ],
   "source": [
    "df[\"date_added\"].head(1)"
   ]
  },
  {
   "cell_type": "code",
   "execution_count": 10,
   "id": "da249dff-990e-4502-854a-70fe7ab1378a",
   "metadata": {},
   "outputs": [
    {
     "data": {
      "text/plain": [
       "8806    March 2, 2019\n",
       "Name: date_added, dtype: object"
      ]
     },
     "execution_count": 10,
     "metadata": {},
     "output_type": "execute_result"
    }
   ],
   "source": [
    "df[\"date_added\"].tail(1)"
   ]
  },
  {
   "cell_type": "markdown",
   "id": "f7a36931-8d32-4b0a-b7f7-dca534175390",
   "metadata": {},
   "source": [
    "## The first day and last day on which the movie/show is added is 02/03/2019 and 25/09/2021 "
   ]
  },
  {
   "cell_type": "code",
   "execution_count": 44,
   "id": "059b5a0d-0675-4a1c-ad74-89e3cbe50e40",
   "metadata": {},
   "outputs": [
    {
     "name": "stdout",
     "output_type": "stream",
     "text": [
      "United States                             2818\n",
      "India                                      972\n",
      "United Kingdom                             419\n",
      "Japan                                      245\n",
      "South Korea                                199\n",
      "                                          ... \n",
      "Romania, Bulgaria, Hungary                   1\n",
      "Uruguay, Guatemala                           1\n",
      "France, Senegal, Belgium                     1\n",
      "Mexico, United States, Spain, Colombia       1\n",
      "United Arab Emirates, Jordan                 1\n",
      "Name: country, Length: 748, dtype: int64\n"
     ]
    }
   ],
   "source": [
    "country_counts=df[\"country\"].value_counts()\n",
    "print(country_counts)"
   ]
  },
  {
   "cell_type": "markdown",
   "id": "86398f54-0be8-4d8f-85b4-db9b0141a01a",
   "metadata": {},
   "source": [
    "## the data includes details of movies/shows from 748 countries"
   ]
  },
  {
   "cell_type": "code",
   "execution_count": 27,
   "id": "d1f654b8-20d6-46e8-9f57-44c27e538784",
   "metadata": {},
   "outputs": [
    {
     "data": {
      "text/plain": [
       "Movie      6131\n",
       "TV Show    2676\n",
       "Name: type, dtype: int64"
      ]
     },
     "execution_count": 27,
     "metadata": {},
     "output_type": "execute_result"
    }
   ],
   "source": [
    "total_count=df[\"type\"].value_counts()"
   ]
  },
  {
   "cell_type": "code",
   "execution_count": null,
   "id": "5b1ed2fa-1a35-488b-9527-3b0d725e008f",
   "metadata": {},
   "outputs": [],
   "source": [
    "# Count of TV shows and movies\n",
    "## distribution of movies and shows in the data given"
   ]
  },
  {
   "cell_type": "code",
   "execution_count": 50,
   "id": "8e081155-6f36-4aab-94c1-c9c55ca96079",
   "metadata": {},
   "outputs": [
    {
     "data": {
      "image/png": "[encoded data removed]",
      "text/plain": [
       "<Figure size 432x288 with 1 Axes>"
      ]
     },
     "metadata": {},
     "output_type": "display_data"
    }
   ],
   "source": [
    "plt.pie(total_count,labels=total_count.index)\n",
    "plt.show()"
   ]
  },
  {
   "cell_type": "code",
   "execution_count": 49,
   "id": "7b861a56-4747-4fb4-bb42-f23a5e2a5fad",
   "metadata": {},
   "outputs": [],
   "source": [
    "unique_com=df[[\"country\",\"type\"]]"
   ]
  },
  {
   "cell_type": "code",
   "execution_count": 17,
   "id": "2104adf7-0368-431e-a109-4652b6504f78",
   "metadata": {},
   "outputs": [
    {
     "data": {
      "text/html": [
       "<div>\n",
       "<style scoped>\n",
       "    .dataframe tbody tr th:only-of-type {\n",
       "        vertical-align: middle;\n",
       "    }\n",
       "\n",
       "    .dataframe tbody tr th {\n",
       "        vertical-align: top;\n",
       "    }\n",
       "\n",
       "    .dataframe thead th {\n",
       "        text-align: right;\n",
       "    }\n",
       "</style>\n",
       "<table border=\"1\" class=\"dataframe\">\n",
       "  <thead>\n",
       "    <tr style=\"text-align: right;\">\n",
       "      <th></th>\n",
       "      <th>country</th>\n",
       "      <th>type</th>\n",
       "    </tr>\n",
       "  </thead>\n",
       "  <tbody>\n",
       "    <tr>\n",
       "      <th>0</th>\n",
       "      <td>United States</td>\n",
       "      <td>Movie</td>\n",
       "    </tr>\n",
       "    <tr>\n",
       "      <th>1</th>\n",
       "      <td>South Africa</td>\n",
       "      <td>TV Show</td>\n",
       "    </tr>\n",
       "    <tr>\n",
       "      <th>2</th>\n",
       "      <td>NaN</td>\n",
       "      <td>TV Show</td>\n",
       "    </tr>\n",
       "    <tr>\n",
       "      <th>3</th>\n",
       "      <td>NaN</td>\n",
       "      <td>TV Show</td>\n",
       "    </tr>\n",
       "    <tr>\n",
       "      <th>4</th>\n",
       "      <td>India</td>\n",
       "      <td>TV Show</td>\n",
       "    </tr>\n",
       "    <tr>\n",
       "      <th>...</th>\n",
       "      <td>...</td>\n",
       "      <td>...</td>\n",
       "    </tr>\n",
       "    <tr>\n",
       "      <th>8802</th>\n",
       "      <td>United States</td>\n",
       "      <td>Movie</td>\n",
       "    </tr>\n",
       "    <tr>\n",
       "      <th>8803</th>\n",
       "      <td>NaN</td>\n",
       "      <td>TV Show</td>\n",
       "    </tr>\n",
       "    <tr>\n",
       "      <th>8804</th>\n",
       "      <td>United States</td>\n",
       "      <td>Movie</td>\n",
       "    </tr>\n",
       "    <tr>\n",
       "      <th>8805</th>\n",
       "      <td>United States</td>\n",
       "      <td>Movie</td>\n",
       "    </tr>\n",
       "    <tr>\n",
       "      <th>8806</th>\n",
       "      <td>India</td>\n",
       "      <td>Movie</td>\n",
       "    </tr>\n",
       "  </tbody>\n",
       "</table>\n",
       "<p>8807 rows × 2 columns</p>\n",
       "</div>"
      ],
      "text/plain": [
       "            country     type\n",
       "0     United States    Movie\n",
       "1      South Africa  TV Show\n",
       "2               NaN  TV Show\n",
       "3               NaN  TV Show\n",
       "4             India  TV Show\n",
       "...             ...      ...\n",
       "8802  United States    Movie\n",
       "8803            NaN  TV Show\n",
       "8804  United States    Movie\n",
       "8805  United States    Movie\n",
       "8806          India    Movie\n",
       "\n",
       "[8807 rows x 2 columns]"
      ]
     },
     "execution_count": 17,
     "metadata": {},
     "output_type": "execute_result"
    }
   ],
   "source": [
    "unique_com"
   ]
  },
  {
   "cell_type": "markdown",
   "id": "f9d43d52-d82c-42bf-b86b-4062aae9d3ac",
   "metadata": {},
   "source": [
    "unique_com.value_counts().head(20)\n",
    "# Top 10 countries in terms of number os shows/movies\n"
   ]
  },
  {
   "cell_type": "code",
   "execution_count": 35,
   "id": "a29b4808-89d3-4f97-b2a2-ba41e44ca75f",
   "metadata": {},
   "outputs": [
    {
     "data": {
      "text/plain": [
       "country         type \n",
       "United States   Movie    2058\n",
       "India           Movie     893\n",
       "United Kingdom  Movie     206\n",
       "Canada          Movie     122\n",
       "Spain           Movie      97\n",
       "Egypt           Movie      92\n",
       "Nigeria         Movie      86\n",
       "Indonesia       Movie      77\n",
       "Turkey          Movie      76\n",
       "Japan           Movie      76\n",
       "dtype: int64"
      ]
     },
     "execution_count": 35,
     "metadata": {},
     "output_type": "execute_result"
    }
   ],
   "source": [
    "movie_list_top10=unique_com[unique_com[\"type\"]==\"Movie\"].value_counts().head(10)\n",
    "movie_list_top10"
   ]
  },
  {
   "cell_type": "markdown",
   "id": "6fad153b-60be-4ea7-a941-0b36a3931363",
   "metadata": {},
   "source": [
    "## Top 10 countries in terms of Number of movies are United States,India,United Kingdom,Canada,Spain,Egypt,Nigeria,Indonesia,Turkey,Japan "
   ]
  },
  {
   "cell_type": "code",
   "execution_count": 36,
   "id": "ad27b7c6-e25e-4657-b7ed-26772ad84acd",
   "metadata": {},
   "outputs": [
    {
     "data": {
      "image/png": "[encoded data removed]",
      "text/plain": [
       "<Figure size 432x288 with 1 Axes>"
      ]
     },
     "metadata": {},
     "output_type": "display_data"
    }
   ],
   "source": [
    "\n",
    "plt.pie(movie_list_top10,labels=movie_list_top10.index)\n",
    "plt.show()"
   ]
  },
  {
   "cell_type": "markdown",
   "id": "3552bae6-e8a4-44c3-9b1f-f49261bf6901",
   "metadata": {},
   "source": [
    "## United States has the maximum movies produced"
   ]
  },
  {
   "cell_type": "code",
   "execution_count": 37,
   "id": "551c13b5-9d15-4a55-812b-bb567df36762",
   "metadata": {},
   "outputs": [
    {
     "data": {
      "text/plain": [
       "country         type   \n",
       "United States   TV Show    760\n",
       "United Kingdom  TV Show    213\n",
       "Japan           TV Show    169\n",
       "South Korea     TV Show    158\n",
       "India           TV Show     79\n",
       "Taiwan          TV Show     68\n",
       "Canada          TV Show     59\n",
       "France          TV Show     49\n",
       "Australia       TV Show     48\n",
       "Spain           TV Show     48\n",
       "dtype: int64"
      ]
     },
     "execution_count": 37,
     "metadata": {},
     "output_type": "execute_result"
    }
   ],
   "source": [
    "TVshow_list_top10=unique_com[unique_com[\"type\"]==\"TV Show\"].value_counts().head(10)\n",
    "TVshow_list_top10"
   ]
  },
  {
   "cell_type": "markdown",
   "id": "e9f0857b-966b-4390-af98-0b0b713d89b2",
   "metadata": {},
   "source": [
    "## Top 10 countries in terms of Number of TV shows are United States,United Kingdom,Japan,South Korea,India,Taiwan,Canada,France,Australia,Spain"
   ]
  },
  {
   "cell_type": "code",
   "execution_count": 60,
   "id": "32316be9-90c9-49bf-a9bb-52d10a174240",
   "metadata": {},
   "outputs": [
    {
     "data": {
      "image/png": "[encoded data removed]",
      "text/plain": [
       "<Figure size 432x288 with 1 Axes>"
      ]
     },
     "metadata": {},
     "output_type": "display_data"
    }
   ],
   "source": [
    "plt.pie(TVshow_list_top10,labels=TVshow_list_top10.index)\n",
    "plt.show()\n"
   ]
  },
  {
   "cell_type": "markdown",
   "id": "bf381f2b-89a5-4736-ac6d-0fecafdf8258",
   "metadata": {},
   "source": [
    "## United States has the maximum TV shows "
   ]
  },
  {
   "cell_type": "code",
   "execution_count": 56,
   "id": "1554c2a3-7e64-4a07-afee-8f78638599ab",
   "metadata": {},
   "outputs": [
    {
     "data": {
      "text/plain": [
       "TV-MA       3207\n",
       "TV-14       2160\n",
       "TV-PG        863\n",
       "R            799\n",
       "PG-13        490\n",
       "TV-Y7        334\n",
       "TV-Y         307\n",
       "PG           287\n",
       "TV-G         220\n",
       "NR            80\n",
       "G             41\n",
       "TV-Y7-FV       6\n",
       "NC-17          3\n",
       "UR             3\n",
       "74 min         1\n",
       "84 min         1\n",
       "66 min         1\n",
       "Name: rating, dtype: int64"
      ]
     },
     "execution_count": 56,
     "metadata": {},
     "output_type": "execute_result"
    }
   ],
   "source": [
    "ratings=df[\"rating\"].value_counts()\n",
    "ratings"
   ]
  },
  {
   "cell_type": "markdown",
   "id": "2c3f62c8-86cb-470b-8610-7af35025d05d",
   "metadata": {},
   "source": [
    "# there are some durations in rating series and for some movies ratings are not available.So we can remove the last 3 rating rows"
   ]
  },
  {
   "cell_type": "code",
   "execution_count": 40,
   "id": "2ace7141-cc91-4943-9df2-622d23943969",
   "metadata": {},
   "outputs": [
    {
     "data": {
      "text/plain": [
       "array(['Kirsten Johnson', nan, 'Julien Leclercq', ..., 'Majid Al Ansari',\n",
       "       'Peter Hewitt', 'Mozez Singh'], dtype=object)"
      ]
     },
     "execution_count": 40,
     "metadata": {},
     "output_type": "execute_result"
    }
   ],
   "source": [
    "df[\"director\"].unique()"
   ]
  },
  {
   "cell_type": "code",
   "execution_count": 41,
   "id": "99ed67c8-7b77-4f5e-ae96-1e7b941b12ce",
   "metadata": {},
   "outputs": [
    {
     "data": {
      "text/plain": [
       "4528"
      ]
     },
     "execution_count": 41,
     "metadata": {},
     "output_type": "execute_result"
    }
   ],
   "source": [
    "df[\"director\"].nunique()"
   ]
  },
  {
   "cell_type": "code",
   "execution_count": 59,
   "id": "a2d05066-10b7-48a4-b522-364ea37e38d1",
   "metadata": {},
   "outputs": [
    {
     "data": {
      "text/plain": [
       "Rajiv Chilaka                     19\n",
       "Raúl Campos, Jan Suter            18\n",
       "Marcus Raboy                      16\n",
       "Suhas Kadav                       16\n",
       "Jay Karas                         14\n",
       "                                  ..\n",
       "Raymie Muzquiz, Stu Livingston     1\n",
       "Joe Menendez                       1\n",
       "Eric Bross                         1\n",
       "Will Eisenberg                     1\n",
       "Mozez Singh                        1\n",
       "Name: director, Length: 4528, dtype: int64"
      ]
     },
     "execution_count": 59,
     "metadata": {},
     "output_type": "execute_result"
    }
   ],
   "source": [
    "df[\"director\"].value_counts()"
   ]
  },
  {
   "cell_type": "code",
   "execution_count": 62,
   "id": "a8561b9e-e05e-41b0-9acd-2be7e223e79c",
   "metadata": {},
   "outputs": [
    {
     "data": {
      "text/plain": [
       "Rajiv Chilaka             19\n",
       "Raúl Campos, Jan Suter    18\n",
       "Marcus Raboy              16\n",
       "Suhas Kadav               16\n",
       "Jay Karas                 14\n",
       "Cathy Garcia-Molina       13\n",
       "Martin Scorsese           12\n",
       "Youssef Chahine           12\n",
       "Jay Chapman               12\n",
       "Steven Spielberg          11\n",
       "Name: director, dtype: int64"
      ]
     },
     "execution_count": 62,
     "metadata": {},
     "output_type": "execute_result"
    }
   ],
   "source": [
    "director_counts=df[\"director\"].value_counts().head(10)\n",
    "director_counts"
   ]
  },
  {
   "cell_type": "code",
   "execution_count": 65,
   "id": "ee8728e2-6c32-41a6-a1c0-313e8f461e17",
   "metadata": {},
   "outputs": [
    {
     "data": {
      "image/png": "[encoded data removed]",
      "text/plain": [
       "<Figure size 432x288 with 1 Axes>"
      ]
     },
     "metadata": {
      "needs_background": "light"
     },
     "output_type": "display_data"
    }
   ],
   "source": [
    "x=director_counts.index\n",
    "y=director_counts\n",
    "plt.bar(x,y)\n",
    "plt.xticks(rotation=90)\n",
    "plt.show()"
   ]
  },
  {
   "cell_type": "markdown",
   "id": "3c0fa286-751e-4c5c-9866-453f1efbaf0f",
   "metadata": {},
   "source": [
    "## Top 10 directors and their count of movies directed"
   ]
  },
  {
   "cell_type": "code",
   "execution_count": 93,
   "id": "ebbdc3ca-fb9c-43dc-9d3e-b90612b66187",
   "metadata": {},
   "outputs": [],
   "source": [
    "dates=df[\"date_added\"]\n",
    "dates_array=pd.to_datetime(dates)\n",
    "month_added=dates_array.dt.month.value_counts()\n"
   ]
  },
  {
   "cell_type": "code",
   "execution_count": 94,
   "id": "0795e8f8-5298-497c-b4c2-584875a74fcc",
   "metadata": {},
   "outputs": [
    {
     "data": {
      "image/png": "[encoded data removed]",
      "text/plain": [
       "<Figure size 432x288 with 1 Axes>"
      ]
     },
     "metadata": {
      "needs_background": "light"
     },
     "output_type": "display_data"
    }
   ],
   "source": [
    "x=month_added.index\n",
    "y=month_added\n",
    "plt.bar(x,y)\n",
    "plt.xticks(rotation=90)\n",
    "plt.show()"
   ]
  },
  {
   "cell_type": "markdown",
   "id": "92070793-13cf-4dd5-9fae-0204f1c30ab8",
   "metadata": {},
   "source": [
    "## Most number of movies were added in August Month"
   ]
  },
  {
   "cell_type": "code",
   "execution_count": 95,
   "id": "262e0fc6-6a24-4cfe-8b99-9e25cf3d6ed4",
   "metadata": {},
   "outputs": [
    {
     "data": {
      "text/plain": [
       "2019.0    2016\n",
       "2020.0    1879\n",
       "2018.0    1649\n",
       "2021.0    1498\n",
       "2017.0    1188\n",
       "2016.0     429\n",
       "2015.0      82\n",
       "2014.0      24\n",
       "2011.0      13\n",
       "2013.0      11\n",
       "2012.0       3\n",
       "2009.0       2\n",
       "2008.0       2\n",
       "2010.0       1\n",
       "Name: date_added, dtype: int64"
      ]
     },
     "execution_count": 95,
     "metadata": {},
     "output_type": "execute_result"
    }
   ],
   "source": [
    "dates=df[\"date_added\"]\n",
    "dates_array=pd.to_datetime(dates)\n",
    "year_added=dates_array.dt.year.value_counts()\n",
    "year_added"
   ]
  },
  {
   "cell_type": "code",
   "execution_count": 96,
   "id": "ba8d310d-da7f-42a0-a162-c9056707ef75",
   "metadata": {},
   "outputs": [
    {
     "data": {
      "image/png": "[encoded data removed]",
      "text/plain": [
       "<Figure size 432x288 with 1 Axes>"
      ]
     },
     "metadata": {
      "needs_background": "light"
     },
     "output_type": "display_data"
    }
   ],
   "source": [
    "x=year_added.index\n",
    "y=year_added\n",
    "plt.bar(x,y)\n",
    "plt.xticks(rotation=90)\n",
    "plt.show()"
   ]
  },
  {
   "cell_type": "markdown",
   "id": "5d7f6156-f7d5-492f-9e37-7e2b66b1a691",
   "metadata": {},
   "source": [
    "## Most number of movies were added in 2019.The reason may be due to the  Covis-19 outbreak and Lockdown "
   ]
  },
  {
   "cell_type": "code",
   "execution_count": 99,
   "id": "c6eada3c-5ead-40cd-a1b2-ed7db34ae9fd",
   "metadata": {},
   "outputs": [
    {
     "data": {
      "text/plain": [
       "0       2020\n",
       "1       2021\n",
       "2       2021\n",
       "3       2021\n",
       "4       2021\n",
       "        ... \n",
       "8802    2007\n",
       "8803    2018\n",
       "8804    2009\n",
       "8805    2006\n",
       "8806    2015\n",
       "Name: release_year, Length: 8807, dtype: int64"
      ]
     },
     "execution_count": 99,
     "metadata": {},
     "output_type": "execute_result"
    }
   ],
   "source": [
    "release_yr=df[\"release_year\"]\n",
    "release_yr"
   ]
  },
  {
   "cell_type": "code",
   "execution_count": 100,
   "id": "d67c490f-075f-49d1-8fdb-379634cedde6",
   "metadata": {},
   "outputs": [
    {
     "data": {
      "text/plain": [
       "2018    1147\n",
       "2017    1032\n",
       "2019    1030\n",
       "2020     953\n",
       "2016     902\n",
       "        ... \n",
       "1959       1\n",
       "1925       1\n",
       "1961       1\n",
       "1947       1\n",
       "1966       1\n",
       "Name: release_year, Length: 74, dtype: int64"
      ]
     },
     "execution_count": 100,
     "metadata": {},
     "output_type": "execute_result"
    }
   ],
   "source": [
    "release_yr.value_counts()"
   ]
  },
  {
   "cell_type": "code",
   "execution_count": 102,
   "id": "b0ed20e2-f0e0-4cce-923a-1953ec46bc19",
   "metadata": {},
   "outputs": [
    {
     "data": {
      "text/plain": [
       "(2000.0, 2021.0)"
      ]
     },
     "execution_count": 102,
     "metadata": {},
     "output_type": "execute_result"
    },
    {
     "data": {
      "image/png": "[encoded data removed]",
      "text/plain": [
       "<Figure size 432x288 with 1 Axes>"
      ]
     },
     "metadata": {
      "needs_background": "light"
     },
     "output_type": "display_data"
    }
   ],
   "source": [
    "sns.lineplot(data=release_yr,\n",
    "             x=release_yr.value_counts().index,\n",
    "             y=release_yr.value_counts())\n",
    "plt.xlim(left=2000,right=2021)             \n",
    "             "
   ]
  },
  {
   "cell_type": "markdown",
   "id": "7303b02f-2cc5-4d58-95c5-53741c56fb37",
   "metadata": {},
   "source": [
    "## since the number of movies released before 2000 were insignificant compared to movies released after 2000, we can trim the graph.\n",
    "## maximum movies were released in 2018"
   ]
  },
  {
   "cell_type": "code",
   "execution_count": 112,
   "id": "a84a5e47-825a-4f93-ae3e-cad922675039",
   "metadata": {},
   "outputs": [
    {
     "data": {
      "image/png": "[encoded data removed]",
      "text/plain": [
       "<Figure size 432x288 with 1 Axes>"
      ]
     },
     "metadata": {
      "needs_background": "light"
     },
     "output_type": "display_data"
    }
   ],
   "source": [
    "sns.countplot(data=df,\n",
    "              x=\"rating\",\n",
    "              hue=\"type\",)\n",
    "plt.title('Type Vs Rating')\n",
    "plt.xticks(rotation=60)\n",
    "plt.legend(loc=(0.75,0.5))\n",
    "plt.show()"
   ]
  },
  {
   "cell_type": "markdown",
   "id": "da10d4ce-e681-406b-ab17-4ae766f34801",
   "metadata": {},
   "source": [
    "## TV-MA Mature Audience content is rated maximum among movies and shows. The rating series contains some entries from duration."
   ]
  },
  {
   "cell_type": "code",
   "execution_count": 152,
   "id": "564e5f2a-afe3-4a0a-81a0-8ab0b61438de",
   "metadata": {},
   "outputs": [],
   "source": [
    "Tv_show_duration=df[df[\"type\"]==\"TV Show\"][\"duration\"]\n",
    "Tv_show_duration_20=Tv_show_duration.value_counts()"
   ]
  },
  {
   "cell_type": "code",
   "execution_count": 153,
   "id": "240673f6-3f71-465f-9168-ed2866c704e1",
   "metadata": {},
   "outputs": [
    {
     "data": {
      "text/plain": [
       "<Figure size 1800x1440 with 0 Axes>"
      ]
     },
     "execution_count": 153,
     "metadata": {},
     "output_type": "execute_result"
    },
    {
     "data": {
      "image/png": "[encoded data removed]",
      "text/plain": [
       "<Figure size 432x288 with 1 Axes>"
      ]
     },
     "metadata": {
      "needs_background": "light"
     },
     "output_type": "display_data"
    },
    {
     "data": {
      "text/plain": [
       "<Figure size 1800x1440 with 0 Axes>"
      ]
     },
     "metadata": {},
     "output_type": "display_data"
    }
   ],
   "source": [
    "sns.histplot(Tv_show_duration_20,bins=5)\n",
    "plt.figure(figsize=(25,20))"
   ]
  },
  {
   "cell_type": "code",
   "execution_count": 150,
   "id": "64bb8fb7-a5f1-433d-b35b-69ea9e286a07",
   "metadata": {},
   "outputs": [],
   "source": [
    "movie_duration=df[df[\"type\"]==\"Movie\"][\"duration\"]\n",
    "movie_duration_20=movie_duration.value_counts().head(20)"
   ]
  },
  {
   "cell_type": "code",
   "execution_count": 151,
   "id": "7af59859-e5b3-47b1-998e-e6d60e07f4fe",
   "metadata": {},
   "outputs": [
    {
     "data": {
      "text/plain": [
       "<Figure size 1800x1440 with 0 Axes>"
      ]
     },
     "execution_count": 151,
     "metadata": {},
     "output_type": "execute_result"
    },
    {
     "data": {
      "image/png": "[encoded data removed]",
      "text/plain": [
       "<Figure size 432x288 with 1 Axes>"
      ]
     },
     "metadata": {
      "needs_background": "light"
     },
     "output_type": "display_data"
    },
    {
     "data": {
      "text/plain": [
       "<Figure size 1800x1440 with 0 Axes>"
      ]
     },
     "metadata": {},
     "output_type": "display_data"
    }
   ],
   "source": [
    "sns.histplot(movie_duration_20,bins=5)\n",
    "plt.figure(figsize=(25,20))"
   ]
  },
  {
   "cell_type": "code",
   "execution_count": null,
   "id": "da11d340-197a-48b7-98f7-e9b1e5d310ce",
   "metadata": {},
   "outputs": [],
   "source": [
    "\n"
   ]
  },
  {
   "cell_type": "markdown",
   "id": "56076b95-78ee-4702-8ac6-c8a702c46744",
   "metadata": {},
   "source": [
    "Recommendations "
   ]
  },
  {
   "cell_type": "markdown",
   "id": "25b32039-b4de-4bad-bddb-b29e95761eda",
   "metadata": {},
   "source": [
    "###### -Top countries in terms of Number of movies are United States,India,United Kingdom,Canada,Spain,Egypt,Nigeria,Indonesia,Turkey,Japan \n",
    "###### -Top countries in terms of Number of TV shows are United States,United Kingdom,Japan,South Korea,India,Taiwan,Canada,France,Australia,Spain\n",
    "###### -Most number of movies were added in August Month\n",
    "###### -TV-MA Mature Audience content is rated maximum among movies and shows. The rating series contains some entries from duration.\n",
    "###### -Most number of movies were added in 2019.The reason may be due to the  Covis-19 outbreak and Lockdown "
   ]
  },
  {
   "cell_type": "markdown",
   "id": "32ef5168-764a-4a5b-9127-e72871460bd4",
   "metadata": {},
   "source": [
    "Insights"
   ]
  },
  {
   "cell_type": "markdown",
   "id": "8d8dc7a2-2c65-45b1-8c0a-959da69e265f",
   "metadata": {},
   "source": [
    "###### - Produce and release more content by directors of highly rated shows/movies\n",
    "###### - Relese movies during holidays or breaks\n",
    "###### - most rated genre is \n",
    "###### - most of the TV shows were terminated after 1 season. Either the shows should be carefully chosen or make sure the coming seasons have  a strong background\n",
    "###### - The favourite genre can vary according to majority of people of county.  So try get produce and release more of those contents."
   ]
  },
  {
   "cell_type": "code",
   "execution_count": null,
   "id": "d05c6bdb-6efa-4a82-9d12-8c3f7a47ae2f",
   "metadata": {},
   "outputs": [],
   "source": []
  }
 ],
 "metadata": {
  "kernelspec": {
   "display_name": "Python 3 (ipykernel)",
   "language": "python",
   "name": "python3"
  },
  "language_info": {
   "codemirror_mode": {
    "name": "ipython",
    "version": 3
   },
   "file_extension": ".py",
   "mimetype": "text/x-python",
   "name": "python",
   "nbconvert_exporter": "python",
   "pygments_lexer": "ipython3",
   "version": "3.9.12"
  }
 },
 "nbformat": 4,
 "nbformat_minor": 5
}
